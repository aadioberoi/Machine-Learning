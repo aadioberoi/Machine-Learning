{
 "cells": [
  {
   "cell_type": "code",
   "execution_count": null,
   "id": "4a29451f-074a-4ec5-bcd5-335ed34c574c",
   "metadata": {},
   "outputs": [],
   "source": [
    "import pandas as pd\n",
    "import numpy as np\n",
    "import seaborn as sns\n",
    "import matplotlib.pyplot as plt"
   ]
  },
  {
   "cell_type": "code",
   "execution_count": null,
   "id": "071dc683-cabb-46c2-8c95-d58e3aa611b8",
   "metadata": {},
   "outputs": [],
   "source": [
    "df= pd.read_csv(\"MagicBricks.csv\")"
   ]
  },
  {
   "cell_type": "code",
   "execution_count": 45,
   "id": "03d44543-09e9-441b-a52d-e47027675c17",
   "metadata": {},
   "outputs": [
    {
     "data": {
      "text/html": [
       "<div>\n",
       "<style scoped>\n",
       "    .dataframe tbody tr th:only-of-type {\n",
       "        vertical-align: middle;\n",
       "    }\n",
       "\n",
       "    .dataframe tbody tr th {\n",
       "        vertical-align: top;\n",
       "    }\n",
       "\n",
       "    .dataframe thead th {\n",
       "        text-align: right;\n",
       "    }\n",
       "</style>\n",
       "<table border=\"1\" class=\"dataframe\">\n",
       "  <thead>\n",
       "    <tr style=\"text-align: right;\">\n",
       "      <th></th>\n",
       "      <th>Area</th>\n",
       "      <th>BHK</th>\n",
       "      <th>Bathroom</th>\n",
       "      <th>Furnishing</th>\n",
       "      <th>Locality</th>\n",
       "      <th>Parking</th>\n",
       "      <th>Price</th>\n",
       "      <th>Status</th>\n",
       "      <th>Transaction</th>\n",
       "      <th>Type</th>\n",
       "      <th>Per_Sqft</th>\n",
       "    </tr>\n",
       "  </thead>\n",
       "  <tbody>\n",
       "    <tr>\n",
       "      <th>0</th>\n",
       "      <td>800.0</td>\n",
       "      <td>3</td>\n",
       "      <td>2.0</td>\n",
       "      <td>Semi-Furnished</td>\n",
       "      <td>Rohini Sector 25</td>\n",
       "      <td>1.0</td>\n",
       "      <td>6500000</td>\n",
       "      <td>Ready_to_move</td>\n",
       "      <td>New_Property</td>\n",
       "      <td>Builder_Floor</td>\n",
       "      <td>NaN</td>\n",
       "    </tr>\n",
       "    <tr>\n",
       "      <th>1</th>\n",
       "      <td>750.0</td>\n",
       "      <td>2</td>\n",
       "      <td>2.0</td>\n",
       "      <td>Semi-Furnished</td>\n",
       "      <td>J R Designers Floors, Rohini Sector 24</td>\n",
       "      <td>1.0</td>\n",
       "      <td>5000000</td>\n",
       "      <td>Ready_to_move</td>\n",
       "      <td>New_Property</td>\n",
       "      <td>Apartment</td>\n",
       "      <td>6667.0</td>\n",
       "    </tr>\n",
       "    <tr>\n",
       "      <th>2</th>\n",
       "      <td>950.0</td>\n",
       "      <td>2</td>\n",
       "      <td>2.0</td>\n",
       "      <td>Furnished</td>\n",
       "      <td>Citizen Apartment, Rohini Sector 13</td>\n",
       "      <td>1.0</td>\n",
       "      <td>15500000</td>\n",
       "      <td>Ready_to_move</td>\n",
       "      <td>Resale</td>\n",
       "      <td>Apartment</td>\n",
       "      <td>6667.0</td>\n",
       "    </tr>\n",
       "    <tr>\n",
       "      <th>3</th>\n",
       "      <td>600.0</td>\n",
       "      <td>2</td>\n",
       "      <td>2.0</td>\n",
       "      <td>Semi-Furnished</td>\n",
       "      <td>Rohini Sector 24</td>\n",
       "      <td>1.0</td>\n",
       "      <td>4200000</td>\n",
       "      <td>Ready_to_move</td>\n",
       "      <td>Resale</td>\n",
       "      <td>Builder_Floor</td>\n",
       "      <td>6667.0</td>\n",
       "    </tr>\n",
       "    <tr>\n",
       "      <th>4</th>\n",
       "      <td>650.0</td>\n",
       "      <td>2</td>\n",
       "      <td>2.0</td>\n",
       "      <td>Semi-Furnished</td>\n",
       "      <td>Rohini Sector 24 carpet area 650 sqft status R...</td>\n",
       "      <td>1.0</td>\n",
       "      <td>6200000</td>\n",
       "      <td>Ready_to_move</td>\n",
       "      <td>New_Property</td>\n",
       "      <td>Builder_Floor</td>\n",
       "      <td>6667.0</td>\n",
       "    </tr>\n",
       "  </tbody>\n",
       "</table>\n",
       "</div>"
      ],
      "text/plain": [
       "    Area  BHK  Bathroom      Furnishing  \\\n",
       "0  800.0    3       2.0  Semi-Furnished   \n",
       "1  750.0    2       2.0  Semi-Furnished   \n",
       "2  950.0    2       2.0       Furnished   \n",
       "3  600.0    2       2.0  Semi-Furnished   \n",
       "4  650.0    2       2.0  Semi-Furnished   \n",
       "\n",
       "                                            Locality  Parking     Price  \\\n",
       "0                                   Rohini Sector 25      1.0   6500000   \n",
       "1             J R Designers Floors, Rohini Sector 24      1.0   5000000   \n",
       "2                Citizen Apartment, Rohini Sector 13      1.0  15500000   \n",
       "3                                   Rohini Sector 24      1.0   4200000   \n",
       "4  Rohini Sector 24 carpet area 650 sqft status R...      1.0   6200000   \n",
       "\n",
       "          Status   Transaction           Type  Per_Sqft  \n",
       "0  Ready_to_move  New_Property  Builder_Floor       NaN  \n",
       "1  Ready_to_move  New_Property      Apartment    6667.0  \n",
       "2  Ready_to_move        Resale      Apartment    6667.0  \n",
       "3  Ready_to_move        Resale  Builder_Floor    6667.0  \n",
       "4  Ready_to_move  New_Property  Builder_Floor    6667.0  "
      ]
     },
     "execution_count": 45,
     "metadata": {},
     "output_type": "execute_result"
    }
   ],
   "source": [
    "df.head()"
   ]
  },
  {
   "cell_type": "markdown",
   "id": "21900d57-ad8c-44f5-9051-84a647b8c556",
   "metadata": {},
   "source": [
    "This show top 5 rows of the dataset"
   ]
  },
  {
   "cell_type": "code",
   "execution_count": 5,
   "id": "e916182e-0e42-454e-a891-50e17fe08bf2",
   "metadata": {},
   "outputs": [
    {
     "data": {
      "text/html": [
       "<div>\n",
       "<style scoped>\n",
       "    .dataframe tbody tr th:only-of-type {\n",
       "        vertical-align: middle;\n",
       "    }\n",
       "\n",
       "    .dataframe tbody tr th {\n",
       "        vertical-align: top;\n",
       "    }\n",
       "\n",
       "    .dataframe thead th {\n",
       "        text-align: right;\n",
       "    }\n",
       "</style>\n",
       "<table border=\"1\" class=\"dataframe\">\n",
       "  <thead>\n",
       "    <tr style=\"text-align: right;\">\n",
       "      <th></th>\n",
       "      <th>Area</th>\n",
       "      <th>BHK</th>\n",
       "      <th>Bathroom</th>\n",
       "      <th>Furnishing</th>\n",
       "      <th>Locality</th>\n",
       "      <th>Parking</th>\n",
       "      <th>Price</th>\n",
       "      <th>Status</th>\n",
       "      <th>Transaction</th>\n",
       "      <th>Type</th>\n",
       "      <th>Per_Sqft</th>\n",
       "    </tr>\n",
       "  </thead>\n",
       "  <tbody>\n",
       "    <tr>\n",
       "      <th>1254</th>\n",
       "      <td>4118.0</td>\n",
       "      <td>4</td>\n",
       "      <td>5.0</td>\n",
       "      <td>Unfurnished</td>\n",
       "      <td>Chittaranjan Park</td>\n",
       "      <td>3.0</td>\n",
       "      <td>55000000</td>\n",
       "      <td>Ready_to_move</td>\n",
       "      <td>New_Property</td>\n",
       "      <td>Builder_Floor</td>\n",
       "      <td>12916.0</td>\n",
       "    </tr>\n",
       "    <tr>\n",
       "      <th>1255</th>\n",
       "      <td>1050.0</td>\n",
       "      <td>3</td>\n",
       "      <td>2.0</td>\n",
       "      <td>Semi-Furnished</td>\n",
       "      <td>Chittaranjan Park</td>\n",
       "      <td>3.0</td>\n",
       "      <td>12500000</td>\n",
       "      <td>Ready_to_move</td>\n",
       "      <td>Resale</td>\n",
       "      <td>Builder_Floor</td>\n",
       "      <td>12916.0</td>\n",
       "    </tr>\n",
       "    <tr>\n",
       "      <th>1256</th>\n",
       "      <td>875.0</td>\n",
       "      <td>3</td>\n",
       "      <td>3.0</td>\n",
       "      <td>Semi-Furnished</td>\n",
       "      <td>Chittaranjan Park</td>\n",
       "      <td>3.0</td>\n",
       "      <td>17500000</td>\n",
       "      <td>Ready_to_move</td>\n",
       "      <td>New_Property</td>\n",
       "      <td>Builder_Floor</td>\n",
       "      <td>12916.0</td>\n",
       "    </tr>\n",
       "    <tr>\n",
       "      <th>1257</th>\n",
       "      <td>990.0</td>\n",
       "      <td>2</td>\n",
       "      <td>2.0</td>\n",
       "      <td>Unfurnished</td>\n",
       "      <td>Chittaranjan Park Block A</td>\n",
       "      <td>1.0</td>\n",
       "      <td>11500000</td>\n",
       "      <td>Ready_to_move</td>\n",
       "      <td>Resale</td>\n",
       "      <td>Builder_Floor</td>\n",
       "      <td>12916.0</td>\n",
       "    </tr>\n",
       "    <tr>\n",
       "      <th>1258</th>\n",
       "      <td>11050.0</td>\n",
       "      <td>3</td>\n",
       "      <td>3.0</td>\n",
       "      <td>Unfurnished</td>\n",
       "      <td>Chittaranjan Park</td>\n",
       "      <td>1.0</td>\n",
       "      <td>18500000</td>\n",
       "      <td>Ready_to_move</td>\n",
       "      <td>New_Property</td>\n",
       "      <td>Builder_Floor</td>\n",
       "      <td>12916.0</td>\n",
       "    </tr>\n",
       "  </tbody>\n",
       "</table>\n",
       "</div>"
      ],
      "text/plain": [
       "         Area  BHK  Bathroom      Furnishing                   Locality  \\\n",
       "1254   4118.0    4       5.0     Unfurnished          Chittaranjan Park   \n",
       "1255   1050.0    3       2.0  Semi-Furnished          Chittaranjan Park   \n",
       "1256    875.0    3       3.0  Semi-Furnished          Chittaranjan Park   \n",
       "1257    990.0    2       2.0     Unfurnished  Chittaranjan Park Block A   \n",
       "1258  11050.0    3       3.0     Unfurnished          Chittaranjan Park   \n",
       "\n",
       "      Parking     Price         Status   Transaction           Type  Per_Sqft  \n",
       "1254      3.0  55000000  Ready_to_move  New_Property  Builder_Floor   12916.0  \n",
       "1255      3.0  12500000  Ready_to_move        Resale  Builder_Floor   12916.0  \n",
       "1256      3.0  17500000  Ready_to_move  New_Property  Builder_Floor   12916.0  \n",
       "1257      1.0  11500000  Ready_to_move        Resale  Builder_Floor   12916.0  \n",
       "1258      1.0  18500000  Ready_to_move  New_Property  Builder_Floor   12916.0  "
      ]
     },
     "execution_count": 5,
     "metadata": {},
     "output_type": "execute_result"
    }
   ],
   "source": [
    "df.tail()"
   ]
  },
  {
   "cell_type": "markdown",
   "id": "6acfa0da-f8a4-4826-8fea-57946473df4f",
   "metadata": {},
   "source": [
    "This show Last 5 rows of the dataset"
   ]
  },
  {
   "cell_type": "code",
   "execution_count": 7,
   "id": "6c55e045-b8b0-4e25-9b4d-8e16ed5f01d6",
   "metadata": {},
   "outputs": [
    {
     "data": {
      "text/plain": [
       "Area             0\n",
       "BHK              0\n",
       "Bathroom         2\n",
       "Furnishing       5\n",
       "Locality         0\n",
       "Parking         33\n",
       "Price            0\n",
       "Status           0\n",
       "Transaction      0\n",
       "Type             5\n",
       "Per_Sqft       241\n",
       "dtype: int64"
      ]
     },
     "execution_count": 7,
     "metadata": {},
     "output_type": "execute_result"
    }
   ],
   "source": [
    "df.isnull().sum()"
   ]
  },
  {
   "cell_type": "markdown",
   "id": "d702bfa5-6056-4f10-bfe5-9fe97bf54655",
   "metadata": {},
   "source": [
    "As we see here in this dataset there is no null values so we can work with it \n",
    "now we just have to work on categorical values and outliers if any there are "
   ]
  },
  {
   "cell_type": "code",
   "execution_count": 9,
   "id": "82f6d11d-b3c2-4fa5-a850-dbd4715d41d8",
   "metadata": {},
   "outputs": [
    {
     "data": {
      "text/html": [
       "<div>\n",
       "<style scoped>\n",
       "    .dataframe tbody tr th:only-of-type {\n",
       "        vertical-align: middle;\n",
       "    }\n",
       "\n",
       "    .dataframe tbody tr th {\n",
       "        vertical-align: top;\n",
       "    }\n",
       "\n",
       "    .dataframe thead th {\n",
       "        text-align: right;\n",
       "    }\n",
       "</style>\n",
       "<table border=\"1\" class=\"dataframe\">\n",
       "  <thead>\n",
       "    <tr style=\"text-align: right;\">\n",
       "      <th></th>\n",
       "      <th>count</th>\n",
       "      <th>mean</th>\n",
       "      <th>std</th>\n",
       "      <th>min</th>\n",
       "      <th>25%</th>\n",
       "      <th>50%</th>\n",
       "      <th>75%</th>\n",
       "      <th>max</th>\n",
       "    </tr>\n",
       "  </thead>\n",
       "  <tbody>\n",
       "    <tr>\n",
       "      <th>Area</th>\n",
       "      <td>1259.0</td>\n",
       "      <td>1.466453e+03</td>\n",
       "      <td>1.568055e+03</td>\n",
       "      <td>28.0</td>\n",
       "      <td>800.0</td>\n",
       "      <td>1200.0</td>\n",
       "      <td>1700.0</td>\n",
       "      <td>24300.0</td>\n",
       "    </tr>\n",
       "    <tr>\n",
       "      <th>BHK</th>\n",
       "      <td>1259.0</td>\n",
       "      <td>2.796664e+00</td>\n",
       "      <td>9.544249e-01</td>\n",
       "      <td>1.0</td>\n",
       "      <td>2.0</td>\n",
       "      <td>3.0</td>\n",
       "      <td>3.0</td>\n",
       "      <td>10.0</td>\n",
       "    </tr>\n",
       "    <tr>\n",
       "      <th>Bathroom</th>\n",
       "      <td>1257.0</td>\n",
       "      <td>2.556086e+00</td>\n",
       "      <td>1.042220e+00</td>\n",
       "      <td>1.0</td>\n",
       "      <td>2.0</td>\n",
       "      <td>2.0</td>\n",
       "      <td>3.0</td>\n",
       "      <td>7.0</td>\n",
       "    </tr>\n",
       "    <tr>\n",
       "      <th>Parking</th>\n",
       "      <td>1226.0</td>\n",
       "      <td>1.935563e+00</td>\n",
       "      <td>6.279212e+00</td>\n",
       "      <td>1.0</td>\n",
       "      <td>1.0</td>\n",
       "      <td>1.0</td>\n",
       "      <td>2.0</td>\n",
       "      <td>114.0</td>\n",
       "    </tr>\n",
       "    <tr>\n",
       "      <th>Price</th>\n",
       "      <td>1259.0</td>\n",
       "      <td>2.130670e+07</td>\n",
       "      <td>2.560115e+07</td>\n",
       "      <td>1000000.0</td>\n",
       "      <td>5700000.0</td>\n",
       "      <td>14200000.0</td>\n",
       "      <td>25500000.0</td>\n",
       "      <td>240000000.0</td>\n",
       "    </tr>\n",
       "    <tr>\n",
       "      <th>Per_Sqft</th>\n",
       "      <td>1018.0</td>\n",
       "      <td>1.569014e+04</td>\n",
       "      <td>2.113474e+04</td>\n",
       "      <td>1259.0</td>\n",
       "      <td>6364.0</td>\n",
       "      <td>11291.5</td>\n",
       "      <td>18000.0</td>\n",
       "      <td>183333.0</td>\n",
       "    </tr>\n",
       "  </tbody>\n",
       "</table>\n",
       "</div>"
      ],
      "text/plain": [
       "           count          mean           std        min        25%  \\\n",
       "Area      1259.0  1.466453e+03  1.568055e+03       28.0      800.0   \n",
       "BHK       1259.0  2.796664e+00  9.544249e-01        1.0        2.0   \n",
       "Bathroom  1257.0  2.556086e+00  1.042220e+00        1.0        2.0   \n",
       "Parking   1226.0  1.935563e+00  6.279212e+00        1.0        1.0   \n",
       "Price     1259.0  2.130670e+07  2.560115e+07  1000000.0  5700000.0   \n",
       "Per_Sqft  1018.0  1.569014e+04  2.113474e+04     1259.0     6364.0   \n",
       "\n",
       "                 50%         75%          max  \n",
       "Area          1200.0      1700.0      24300.0  \n",
       "BHK              3.0         3.0         10.0  \n",
       "Bathroom         2.0         3.0          7.0  \n",
       "Parking          1.0         2.0        114.0  \n",
       "Price     14200000.0  25500000.0  240000000.0  \n",
       "Per_Sqft     11291.5     18000.0     183333.0  "
      ]
     },
     "execution_count": 9,
     "metadata": {},
     "output_type": "execute_result"
    }
   ],
   "source": [
    "df.describe().T"
   ]
  },
  {
   "cell_type": "code",
   "execution_count": 10,
   "id": "410fa513-b34f-4a5a-b745-220bbf8742b6",
   "metadata": {},
   "outputs": [
    {
     "data": {
      "text/plain": [
       "(1259, 11)"
      ]
     },
     "execution_count": 10,
     "metadata": {},
     "output_type": "execute_result"
    }
   ],
   "source": [
    "df.shape"
   ]
  },
  {
   "cell_type": "markdown",
   "id": "6cf9c2b3-a075-429e-8fde-8eae4dab6b03",
   "metadata": {},
   "source": [
    "It tells no of rows and columns "
   ]
  },
  {
   "cell_type": "code",
   "execution_count": 12,
   "id": "0ae2fdfe-cfe2-46c7-ae3c-7ec963f756ed",
   "metadata": {},
   "outputs": [
    {
     "name": "stdout",
     "output_type": "stream",
     "text": [
      "<class 'pandas.core.frame.DataFrame'>\n",
      "RangeIndex: 1259 entries, 0 to 1258\n",
      "Data columns (total 11 columns):\n",
      " #   Column       Non-Null Count  Dtype  \n",
      "---  ------       --------------  -----  \n",
      " 0   Area         1259 non-null   float64\n",
      " 1   BHK          1259 non-null   int64  \n",
      " 2   Bathroom     1257 non-null   float64\n",
      " 3   Furnishing   1254 non-null   object \n",
      " 4   Locality     1259 non-null   object \n",
      " 5   Parking      1226 non-null   float64\n",
      " 6   Price        1259 non-null   int64  \n",
      " 7   Status       1259 non-null   object \n",
      " 8   Transaction  1259 non-null   object \n",
      " 9   Type         1254 non-null   object \n",
      " 10  Per_Sqft     1018 non-null   float64\n",
      "dtypes: float64(4), int64(2), object(5)\n",
      "memory usage: 108.3+ KB\n"
     ]
    }
   ],
   "source": [
    "df.info()"
   ]
  },
  {
   "cell_type": "markdown",
   "id": "89bf0eba-ef4e-43ab-a668-c2c22f58aa8b",
   "metadata": {},
   "source": [
    "it tells the data type of the columns"
   ]
  },
  {
   "cell_type": "code",
   "execution_count": 14,
   "id": "5468c809-4038-4f31-a1aa-fbc7adb99540",
   "metadata": {},
   "outputs": [
    {
     "data": {
      "image/png": "[encoded data removed]",
      "text/plain": [
       "<Figure size 1000x400 with 1 Axes>"
      ]
     },
     "metadata": {},
     "output_type": "display_data"
    }
   ],
   "source": [
    "plt.figure(figsize=(10,4))\n",
    "plt.hist(df['Price'], bins=20, color='skyblue')\n",
    "plt.title('House Price Distribution')\n",
    "plt.xlabel('Price')\n",
    "plt.ylabel('Number of Houses')\n",
    "plt.show()"
   ]
  },
  {
   "cell_type": "markdown",
   "id": "ed6ddf1b-6ef0-417e-8065-b8c7a748a9d0",
   "metadata": {},
   "source": [
    "# Observation \n",
    "\n",
    "It shows the price range of the houses"
   ]
  },
  {
   "cell_type": "markdown",
   "id": "86251c97-3aa8-433e-80ff-f186c69bd1cf",
   "metadata": {},
   "source": [
    "# Let's handle the categorical values"
   ]
  },
  {
   "cell_type": "code",
   "execution_count": 17,
   "id": "71ed93b7-5537-41a8-a36c-ed4120a59eed",
   "metadata": {},
   "outputs": [
    {
     "data": {
      "text/html": [
       "<div>\n",
       "<style scoped>\n",
       "    .dataframe tbody tr th:only-of-type {\n",
       "        vertical-align: middle;\n",
       "    }\n",
       "\n",
       "    .dataframe tbody tr th {\n",
       "        vertical-align: top;\n",
       "    }\n",
       "\n",
       "    .dataframe thead th {\n",
       "        text-align: right;\n",
       "    }\n",
       "</style>\n",
       "<table border=\"1\" class=\"dataframe\">\n",
       "  <thead>\n",
       "    <tr style=\"text-align: right;\">\n",
       "      <th></th>\n",
       "      <th>Area</th>\n",
       "      <th>BHK</th>\n",
       "      <th>Bathroom</th>\n",
       "      <th>Parking</th>\n",
       "      <th>Price</th>\n",
       "      <th>Per_Sqft</th>\n",
       "      <th>Furnishing_Furnished</th>\n",
       "      <th>Furnishing_Semi-Furnished</th>\n",
       "      <th>Furnishing_Unfurnished</th>\n",
       "      <th>Locality_APL Builder Floor, Greater Kailash 1</th>\n",
       "      <th>...</th>\n",
       "      <th>Locality_Yamuna Apartment, Alaknanda</th>\n",
       "      <th>Locality_Yamuna Vihar, Shahdara</th>\n",
       "      <th>Locality_Zakir Nagar, New Friends Colony</th>\n",
       "      <th>Locality_mind. The space is airy, is well located and can be easily customized as per the needs. Prime facilities are easily accessible from this place with Government Girls Senior Secondary School No 2 (0 km ). Other key neighbourhood are B Block Market (0 km ). read more Contact Owner View Phone No. Share Feedback Owner vinod kumar</th>\n",
       "      <th>Status_Almost_ready</th>\n",
       "      <th>Status_Ready_to_move</th>\n",
       "      <th>Transaction_New_Property</th>\n",
       "      <th>Transaction_Resale</th>\n",
       "      <th>Type_Apartment</th>\n",
       "      <th>Type_Builder_Floor</th>\n",
       "    </tr>\n",
       "  </thead>\n",
       "  <tbody>\n",
       "    <tr>\n",
       "      <th>0</th>\n",
       "      <td>800.0</td>\n",
       "      <td>3.0</td>\n",
       "      <td>2.0</td>\n",
       "      <td>1.0</td>\n",
       "      <td>6500000.0</td>\n",
       "      <td>NaN</td>\n",
       "      <td>0.0</td>\n",
       "      <td>1.0</td>\n",
       "      <td>0.0</td>\n",
       "      <td>0.0</td>\n",
       "      <td>...</td>\n",
       "      <td>0.0</td>\n",
       "      <td>0.0</td>\n",
       "      <td>0.0</td>\n",
       "      <td>0.0</td>\n",
       "      <td>0.0</td>\n",
       "      <td>1.0</td>\n",
       "      <td>1.0</td>\n",
       "      <td>0.0</td>\n",
       "      <td>0.0</td>\n",
       "      <td>1.0</td>\n",
       "    </tr>\n",
       "    <tr>\n",
       "      <th>1</th>\n",
       "      <td>750.0</td>\n",
       "      <td>2.0</td>\n",
       "      <td>2.0</td>\n",
       "      <td>1.0</td>\n",
       "      <td>5000000.0</td>\n",
       "      <td>6667.0</td>\n",
       "      <td>0.0</td>\n",
       "      <td>1.0</td>\n",
       "      <td>0.0</td>\n",
       "      <td>0.0</td>\n",
       "      <td>...</td>\n",
       "      <td>0.0</td>\n",
       "      <td>0.0</td>\n",
       "      <td>0.0</td>\n",
       "      <td>0.0</td>\n",
       "      <td>0.0</td>\n",
       "      <td>1.0</td>\n",
       "      <td>1.0</td>\n",
       "      <td>0.0</td>\n",
       "      <td>1.0</td>\n",
       "      <td>0.0</td>\n",
       "    </tr>\n",
       "    <tr>\n",
       "      <th>2</th>\n",
       "      <td>950.0</td>\n",
       "      <td>2.0</td>\n",
       "      <td>2.0</td>\n",
       "      <td>1.0</td>\n",
       "      <td>15500000.0</td>\n",
       "      <td>6667.0</td>\n",
       "      <td>1.0</td>\n",
       "      <td>0.0</td>\n",
       "      <td>0.0</td>\n",
       "      <td>0.0</td>\n",
       "      <td>...</td>\n",
       "      <td>0.0</td>\n",
       "      <td>0.0</td>\n",
       "      <td>0.0</td>\n",
       "      <td>0.0</td>\n",
       "      <td>0.0</td>\n",
       "      <td>1.0</td>\n",
       "      <td>0.0</td>\n",
       "      <td>1.0</td>\n",
       "      <td>1.0</td>\n",
       "      <td>0.0</td>\n",
       "    </tr>\n",
       "    <tr>\n",
       "      <th>3</th>\n",
       "      <td>600.0</td>\n",
       "      <td>2.0</td>\n",
       "      <td>2.0</td>\n",
       "      <td>1.0</td>\n",
       "      <td>4200000.0</td>\n",
       "      <td>6667.0</td>\n",
       "      <td>0.0</td>\n",
       "      <td>1.0</td>\n",
       "      <td>0.0</td>\n",
       "      <td>0.0</td>\n",
       "      <td>...</td>\n",
       "      <td>0.0</td>\n",
       "      <td>0.0</td>\n",
       "      <td>0.0</td>\n",
       "      <td>0.0</td>\n",
       "      <td>0.0</td>\n",
       "      <td>1.0</td>\n",
       "      <td>0.0</td>\n",
       "      <td>1.0</td>\n",
       "      <td>0.0</td>\n",
       "      <td>1.0</td>\n",
       "    </tr>\n",
       "    <tr>\n",
       "      <th>4</th>\n",
       "      <td>650.0</td>\n",
       "      <td>2.0</td>\n",
       "      <td>2.0</td>\n",
       "      <td>1.0</td>\n",
       "      <td>6200000.0</td>\n",
       "      <td>6667.0</td>\n",
       "      <td>0.0</td>\n",
       "      <td>1.0</td>\n",
       "      <td>0.0</td>\n",
       "      <td>0.0</td>\n",
       "      <td>...</td>\n",
       "      <td>0.0</td>\n",
       "      <td>0.0</td>\n",
       "      <td>0.0</td>\n",
       "      <td>0.0</td>\n",
       "      <td>0.0</td>\n",
       "      <td>1.0</td>\n",
       "      <td>1.0</td>\n",
       "      <td>0.0</td>\n",
       "      <td>0.0</td>\n",
       "      <td>1.0</td>\n",
       "    </tr>\n",
       "    <tr>\n",
       "      <th>...</th>\n",
       "      <td>...</td>\n",
       "      <td>...</td>\n",
       "      <td>...</td>\n",
       "      <td>...</td>\n",
       "      <td>...</td>\n",
       "      <td>...</td>\n",
       "      <td>...</td>\n",
       "      <td>...</td>\n",
       "      <td>...</td>\n",
       "      <td>...</td>\n",
       "      <td>...</td>\n",
       "      <td>...</td>\n",
       "      <td>...</td>\n",
       "      <td>...</td>\n",
       "      <td>...</td>\n",
       "      <td>...</td>\n",
       "      <td>...</td>\n",
       "      <td>...</td>\n",
       "      <td>...</td>\n",
       "      <td>...</td>\n",
       "      <td>...</td>\n",
       "    </tr>\n",
       "    <tr>\n",
       "      <th>1254</th>\n",
       "      <td>4118.0</td>\n",
       "      <td>4.0</td>\n",
       "      <td>5.0</td>\n",
       "      <td>3.0</td>\n",
       "      <td>55000000.0</td>\n",
       "      <td>12916.0</td>\n",
       "      <td>0.0</td>\n",
       "      <td>0.0</td>\n",
       "      <td>1.0</td>\n",
       "      <td>0.0</td>\n",
       "      <td>...</td>\n",
       "      <td>0.0</td>\n",
       "      <td>0.0</td>\n",
       "      <td>0.0</td>\n",
       "      <td>0.0</td>\n",
       "      <td>0.0</td>\n",
       "      <td>1.0</td>\n",
       "      <td>1.0</td>\n",
       "      <td>0.0</td>\n",
       "      <td>0.0</td>\n",
       "      <td>1.0</td>\n",
       "    </tr>\n",
       "    <tr>\n",
       "      <th>1255</th>\n",
       "      <td>1050.0</td>\n",
       "      <td>3.0</td>\n",
       "      <td>2.0</td>\n",
       "      <td>3.0</td>\n",
       "      <td>12500000.0</td>\n",
       "      <td>12916.0</td>\n",
       "      <td>0.0</td>\n",
       "      <td>1.0</td>\n",
       "      <td>0.0</td>\n",
       "      <td>0.0</td>\n",
       "      <td>...</td>\n",
       "      <td>0.0</td>\n",
       "      <td>0.0</td>\n",
       "      <td>0.0</td>\n",
       "      <td>0.0</td>\n",
       "      <td>0.0</td>\n",
       "      <td>1.0</td>\n",
       "      <td>0.0</td>\n",
       "      <td>1.0</td>\n",
       "      <td>0.0</td>\n",
       "      <td>1.0</td>\n",
       "    </tr>\n",
       "    <tr>\n",
       "      <th>1256</th>\n",
       "      <td>875.0</td>\n",
       "      <td>3.0</td>\n",
       "      <td>3.0</td>\n",
       "      <td>3.0</td>\n",
       "      <td>17500000.0</td>\n",
       "      <td>12916.0</td>\n",
       "      <td>0.0</td>\n",
       "      <td>1.0</td>\n",
       "      <td>0.0</td>\n",
       "      <td>0.0</td>\n",
       "      <td>...</td>\n",
       "      <td>0.0</td>\n",
       "      <td>0.0</td>\n",
       "      <td>0.0</td>\n",
       "      <td>0.0</td>\n",
       "      <td>0.0</td>\n",
       "      <td>1.0</td>\n",
       "      <td>1.0</td>\n",
       "      <td>0.0</td>\n",
       "      <td>0.0</td>\n",
       "      <td>1.0</td>\n",
       "    </tr>\n",
       "    <tr>\n",
       "      <th>1257</th>\n",
       "      <td>990.0</td>\n",
       "      <td>2.0</td>\n",
       "      <td>2.0</td>\n",
       "      <td>1.0</td>\n",
       "      <td>11500000.0</td>\n",
       "      <td>12916.0</td>\n",
       "      <td>0.0</td>\n",
       "      <td>0.0</td>\n",
       "      <td>1.0</td>\n",
       "      <td>0.0</td>\n",
       "      <td>...</td>\n",
       "      <td>0.0</td>\n",
       "      <td>0.0</td>\n",
       "      <td>0.0</td>\n",
       "      <td>0.0</td>\n",
       "      <td>0.0</td>\n",
       "      <td>1.0</td>\n",
       "      <td>0.0</td>\n",
       "      <td>1.0</td>\n",
       "      <td>0.0</td>\n",
       "      <td>1.0</td>\n",
       "    </tr>\n",
       "    <tr>\n",
       "      <th>1258</th>\n",
       "      <td>11050.0</td>\n",
       "      <td>3.0</td>\n",
       "      <td>3.0</td>\n",
       "      <td>1.0</td>\n",
       "      <td>18500000.0</td>\n",
       "      <td>12916.0</td>\n",
       "      <td>0.0</td>\n",
       "      <td>0.0</td>\n",
       "      <td>1.0</td>\n",
       "      <td>0.0</td>\n",
       "      <td>...</td>\n",
       "      <td>0.0</td>\n",
       "      <td>0.0</td>\n",
       "      <td>0.0</td>\n",
       "      <td>0.0</td>\n",
       "      <td>0.0</td>\n",
       "      <td>1.0</td>\n",
       "      <td>1.0</td>\n",
       "      <td>0.0</td>\n",
       "      <td>0.0</td>\n",
       "      <td>1.0</td>\n",
       "    </tr>\n",
       "  </tbody>\n",
       "</table>\n",
       "<p>1259 rows × 380 columns</p>\n",
       "</div>"
      ],
      "text/plain": [
       "         Area  BHK  Bathroom  Parking       Price  Per_Sqft  \\\n",
       "0       800.0  3.0       2.0      1.0   6500000.0       NaN   \n",
       "1       750.0  2.0       2.0      1.0   5000000.0    6667.0   \n",
       "2       950.0  2.0       2.0      1.0  15500000.0    6667.0   \n",
       "3       600.0  2.0       2.0      1.0   4200000.0    6667.0   \n",
       "4       650.0  2.0       2.0      1.0   6200000.0    6667.0   \n",
       "...       ...  ...       ...      ...         ...       ...   \n",
       "1254   4118.0  4.0       5.0      3.0  55000000.0   12916.0   \n",
       "1255   1050.0  3.0       2.0      3.0  12500000.0   12916.0   \n",
       "1256    875.0  3.0       3.0      3.0  17500000.0   12916.0   \n",
       "1257    990.0  2.0       2.0      1.0  11500000.0   12916.0   \n",
       "1258  11050.0  3.0       3.0      1.0  18500000.0   12916.0   \n",
       "\n",
       "      Furnishing_Furnished  Furnishing_Semi-Furnished  Furnishing_Unfurnished  \\\n",
       "0                      0.0                        1.0                     0.0   \n",
       "1                      0.0                        1.0                     0.0   \n",
       "2                      1.0                        0.0                     0.0   \n",
       "3                      0.0                        1.0                     0.0   \n",
       "4                      0.0                        1.0                     0.0   \n",
       "...                    ...                        ...                     ...   \n",
       "1254                   0.0                        0.0                     1.0   \n",
       "1255                   0.0                        1.0                     0.0   \n",
       "1256                   0.0                        1.0                     0.0   \n",
       "1257                   0.0                        0.0                     1.0   \n",
       "1258                   0.0                        0.0                     1.0   \n",
       "\n",
       "      Locality_APL Builder Floor, Greater Kailash 1  ...  \\\n",
       "0                                               0.0  ...   \n",
       "1                                               0.0  ...   \n",
       "2                                               0.0  ...   \n",
       "3                                               0.0  ...   \n",
       "4                                               0.0  ...   \n",
       "...                                             ...  ...   \n",
       "1254                                            0.0  ...   \n",
       "1255                                            0.0  ...   \n",
       "1256                                            0.0  ...   \n",
       "1257                                            0.0  ...   \n",
       "1258                                            0.0  ...   \n",
       "\n",
       "      Locality_Yamuna Apartment, Alaknanda  Locality_Yamuna Vihar, Shahdara  \\\n",
       "0                                      0.0                              0.0   \n",
       "1                                      0.0                              0.0   \n",
       "2                                      0.0                              0.0   \n",
       "3                                      0.0                              0.0   \n",
       "4                                      0.0                              0.0   \n",
       "...                                    ...                              ...   \n",
       "1254                                   0.0                              0.0   \n",
       "1255                                   0.0                              0.0   \n",
       "1256                                   0.0                              0.0   \n",
       "1257                                   0.0                              0.0   \n",
       "1258                                   0.0                              0.0   \n",
       "\n",
       "      Locality_Zakir Nagar, New Friends Colony  \\\n",
       "0                                          0.0   \n",
       "1                                          0.0   \n",
       "2                                          0.0   \n",
       "3                                          0.0   \n",
       "4                                          0.0   \n",
       "...                                        ...   \n",
       "1254                                       0.0   \n",
       "1255                                       0.0   \n",
       "1256                                       0.0   \n",
       "1257                                       0.0   \n",
       "1258                                       0.0   \n",
       "\n",
       "      Locality_mind. The space is airy, is well located and can be easily customized as per the needs. Prime facilities are easily accessible from this place with Government Girls Senior Secondary School No 2 (0 km ). Other key neighbourhood are B Block Market (0 km ). read more Contact Owner View Phone No. Share Feedback Owner vinod kumar  \\\n",
       "0                                                   0.0                                                                                                                                                                                                                                                                                                 \n",
       "1                                                   0.0                                                                                                                                                                                                                                                                                                 \n",
       "2                                                   0.0                                                                                                                                                                                                                                                                                                 \n",
       "3                                                   0.0                                                                                                                                                                                                                                                                                                 \n",
       "4                                                   0.0                                                                                                                                                                                                                                                                                                 \n",
       "...                                                 ...                                                                                                                                                                                                                                                                                                 \n",
       "1254                                                0.0                                                                                                                                                                                                                                                                                                 \n",
       "1255                                                0.0                                                                                                                                                                                                                                                                                                 \n",
       "1256                                                0.0                                                                                                                                                                                                                                                                                                 \n",
       "1257                                                0.0                                                                                                                                                                                                                                                                                                 \n",
       "1258                                                0.0                                                                                                                                                                                                                                                                                                 \n",
       "\n",
       "      Status_Almost_ready  Status_Ready_to_move  Transaction_New_Property  \\\n",
       "0                     0.0                   1.0                       1.0   \n",
       "1                     0.0                   1.0                       1.0   \n",
       "2                     0.0                   1.0                       0.0   \n",
       "3                     0.0                   1.0                       0.0   \n",
       "4                     0.0                   1.0                       1.0   \n",
       "...                   ...                   ...                       ...   \n",
       "1254                  0.0                   1.0                       1.0   \n",
       "1255                  0.0                   1.0                       0.0   \n",
       "1256                  0.0                   1.0                       1.0   \n",
       "1257                  0.0                   1.0                       0.0   \n",
       "1258                  0.0                   1.0                       1.0   \n",
       "\n",
       "      Transaction_Resale  Type_Apartment  Type_Builder_Floor  \n",
       "0                    0.0             0.0                 1.0  \n",
       "1                    0.0             1.0                 0.0  \n",
       "2                    1.0             1.0                 0.0  \n",
       "3                    1.0             0.0                 1.0  \n",
       "4                    0.0             0.0                 1.0  \n",
       "...                  ...             ...                 ...  \n",
       "1254                 0.0             0.0                 1.0  \n",
       "1255                 1.0             0.0                 1.0  \n",
       "1256                 0.0             0.0                 1.0  \n",
       "1257                 1.0             0.0                 1.0  \n",
       "1258                 0.0             0.0                 1.0  \n",
       "\n",
       "[1259 rows x 380 columns]"
      ]
     },
     "execution_count": 17,
     "metadata": {},
     "output_type": "execute_result"
    }
   ],
   "source": [
    "df2=pd.get_dummies(df)\n",
    "df2=df2.astype(float)\n",
    "df2"
   ]
  },
  {
   "cell_type": "markdown",
   "id": "601cd8cc-b282-4d83-94af-d493686d70ab",
   "metadata": {},
   "source": [
    "Here we changed the categorial values to numerical with one hot encoding method \n",
    "we use astype(float) to convert the false and true to 0 and 1"
   ]
  },
  {
   "cell_type": "markdown",
   "id": "d9e8b03f-bb84-4923-b0d1-10ce3cb4df13",
   "metadata": {},
   "source": [
    "# Let's see is their any outliers\n",
    "\n",
    "We are using iqr treatment function "
   ]
  },
  {
   "cell_type": "code",
   "execution_count": 20,
   "id": "d4918afd-a070-4d87-b9bc-66c4acfa8a0c",
   "metadata": {},
   "outputs": [
    {
     "data": {
      "text/plain": [
       "<Axes: ylabel='Price'>"
      ]
     },
     "execution_count": 20,
     "metadata": {},
     "output_type": "execute_result"
    },
    {
     "data": {
      "image/png": "[encoded data removed]",
      "text/plain": [
       "<Figure size 640x480 with 1 Axes>"
      ]
     },
     "metadata": {},
     "output_type": "display_data"
    }
   ],
   "source": [
    "sns.boxplot(df2[\"Price\"])"
   ]
  },
  {
   "cell_type": "code",
   "execution_count": 21,
   "id": "9846eb51-db7d-4740-863a-fb2af80ce966",
   "metadata": {},
   "outputs": [
    {
     "name": "stderr",
     "output_type": "stream",
     "text": [
      "C:\\Users\\Nitin Bisht\\AppData\\Local\\Temp\\ipykernel_26104\\914673641.py:3: UserWarning: \n",
      "\n",
      "`distplot` is a deprecated function and will be removed in seaborn v0.14.0.\n",
      "\n",
      "Please adapt your code to use either `displot` (a figure-level function with\n",
      "similar flexibility) or `histplot` (an axes-level function for histograms).\n",
      "\n",
      "For a guide to updating your code to use the new functions, please see\n",
      "https://gist.github.com/mwaskom/de44147ed2974457ad6372750bbe5751\n",
      "\n",
      "  sns.distplot(df2['Price'])\n"
     ]
    },
    {
     "ename": "KeyError",
     "evalue": "'Bedrooms'",
     "output_type": "error",
     "traceback": [
      "\u001b[1;31m---------------------------------------------------------------------------\u001b[0m",
      "\u001b[1;31mKeyError\u001b[0m                                  Traceback (most recent call last)",
      "File \u001b[1;32m~\\Documents\\ANACONDA\\Lib\\site-packages\\pandas\\core\\indexes\\base.py:3805\u001b[0m, in \u001b[0;36mIndex.get_loc\u001b[1;34m(self, key)\u001b[0m\n\u001b[0;32m   3804\u001b[0m \u001b[38;5;28;01mtry\u001b[39;00m:\n\u001b[1;32m-> 3805\u001b[0m     \u001b[38;5;28;01mreturn\u001b[39;00m \u001b[38;5;28mself\u001b[39m\u001b[38;5;241m.\u001b[39m_engine\u001b[38;5;241m.\u001b[39mget_loc(casted_key)\n\u001b[0;32m   3806\u001b[0m \u001b[38;5;28;01mexcept\u001b[39;00m \u001b[38;5;167;01mKeyError\u001b[39;00m \u001b[38;5;28;01mas\u001b[39;00m err:\n",
      "File \u001b[1;32mindex.pyx:167\u001b[0m, in \u001b[0;36mpandas._libs.index.IndexEngine.get_loc\u001b[1;34m()\u001b[0m\n",
      "File \u001b[1;32mindex.pyx:196\u001b[0m, in \u001b[0;36mpandas._libs.index.IndexEngine.get_loc\u001b[1;34m()\u001b[0m\n",
      "File \u001b[1;32mpandas\\\\_libs\\\\hashtable_class_helper.pxi:7081\u001b[0m, in \u001b[0;36mpandas._libs.hashtable.PyObjectHashTable.get_item\u001b[1;34m()\u001b[0m\n",
      "File \u001b[1;32mpandas\\\\_libs\\\\hashtable_class_helper.pxi:7089\u001b[0m, in \u001b[0;36mpandas._libs.hashtable.PyObjectHashTable.get_item\u001b[1;34m()\u001b[0m\n",
      "\u001b[1;31mKeyError\u001b[0m: 'Bedrooms'",
      "\nThe above exception was the direct cause of the following exception:\n",
      "\u001b[1;31mKeyError\u001b[0m                                  Traceback (most recent call last)",
      "Cell \u001b[1;32mIn[21], line 6\u001b[0m\n\u001b[0;32m      3\u001b[0m sns\u001b[38;5;241m.\u001b[39mdistplot(df2[\u001b[38;5;124m'\u001b[39m\u001b[38;5;124mPrice\u001b[39m\u001b[38;5;124m'\u001b[39m])\n\u001b[0;32m      5\u001b[0m plt\u001b[38;5;241m.\u001b[39msubplot(\u001b[38;5;241m1\u001b[39m,\u001b[38;5;241m2\u001b[39m,\u001b[38;5;241m2\u001b[39m)\n\u001b[1;32m----> 6\u001b[0m sns\u001b[38;5;241m.\u001b[39mdistplot(df2[\u001b[38;5;124m'\u001b[39m\u001b[38;5;124mBedrooms\u001b[39m\u001b[38;5;124m'\u001b[39m])\n\u001b[0;32m      9\u001b[0m plt\u001b[38;5;241m.\u001b[39mshow()\n\u001b[0;32m     11\u001b[0m \u001b[38;5;28;01mimport\u001b[39;00m \u001b[38;5;21;01mwarnings\u001b[39;00m\n",
      "File \u001b[1;32m~\\Documents\\ANACONDA\\Lib\\site-packages\\pandas\\core\\frame.py:4102\u001b[0m, in \u001b[0;36mDataFrame.__getitem__\u001b[1;34m(self, key)\u001b[0m\n\u001b[0;32m   4100\u001b[0m \u001b[38;5;28;01mif\u001b[39;00m \u001b[38;5;28mself\u001b[39m\u001b[38;5;241m.\u001b[39mcolumns\u001b[38;5;241m.\u001b[39mnlevels \u001b[38;5;241m>\u001b[39m \u001b[38;5;241m1\u001b[39m:\n\u001b[0;32m   4101\u001b[0m     \u001b[38;5;28;01mreturn\u001b[39;00m \u001b[38;5;28mself\u001b[39m\u001b[38;5;241m.\u001b[39m_getitem_multilevel(key)\n\u001b[1;32m-> 4102\u001b[0m indexer \u001b[38;5;241m=\u001b[39m \u001b[38;5;28mself\u001b[39m\u001b[38;5;241m.\u001b[39mcolumns\u001b[38;5;241m.\u001b[39mget_loc(key)\n\u001b[0;32m   4103\u001b[0m \u001b[38;5;28;01mif\u001b[39;00m is_integer(indexer):\n\u001b[0;32m   4104\u001b[0m     indexer \u001b[38;5;241m=\u001b[39m [indexer]\n",
      "File \u001b[1;32m~\\Documents\\ANACONDA\\Lib\\site-packages\\pandas\\core\\indexes\\base.py:3812\u001b[0m, in \u001b[0;36mIndex.get_loc\u001b[1;34m(self, key)\u001b[0m\n\u001b[0;32m   3807\u001b[0m     \u001b[38;5;28;01mif\u001b[39;00m \u001b[38;5;28misinstance\u001b[39m(casted_key, \u001b[38;5;28mslice\u001b[39m) \u001b[38;5;129;01mor\u001b[39;00m (\n\u001b[0;32m   3808\u001b[0m         \u001b[38;5;28misinstance\u001b[39m(casted_key, abc\u001b[38;5;241m.\u001b[39mIterable)\n\u001b[0;32m   3809\u001b[0m         \u001b[38;5;129;01mand\u001b[39;00m \u001b[38;5;28many\u001b[39m(\u001b[38;5;28misinstance\u001b[39m(x, \u001b[38;5;28mslice\u001b[39m) \u001b[38;5;28;01mfor\u001b[39;00m x \u001b[38;5;129;01min\u001b[39;00m casted_key)\n\u001b[0;32m   3810\u001b[0m     ):\n\u001b[0;32m   3811\u001b[0m         \u001b[38;5;28;01mraise\u001b[39;00m InvalidIndexError(key)\n\u001b[1;32m-> 3812\u001b[0m     \u001b[38;5;28;01mraise\u001b[39;00m \u001b[38;5;167;01mKeyError\u001b[39;00m(key) \u001b[38;5;28;01mfrom\u001b[39;00m \u001b[38;5;21;01merr\u001b[39;00m\n\u001b[0;32m   3813\u001b[0m \u001b[38;5;28;01mexcept\u001b[39;00m \u001b[38;5;167;01mTypeError\u001b[39;00m:\n\u001b[0;32m   3814\u001b[0m     \u001b[38;5;66;03m# If we have a listlike key, _check_indexing_error will raise\u001b[39;00m\n\u001b[0;32m   3815\u001b[0m     \u001b[38;5;66;03m#  InvalidIndexError. Otherwise we fall through and re-raise\u001b[39;00m\n\u001b[0;32m   3816\u001b[0m     \u001b[38;5;66;03m#  the TypeError.\u001b[39;00m\n\u001b[0;32m   3817\u001b[0m     \u001b[38;5;28mself\u001b[39m\u001b[38;5;241m.\u001b[39m_check_indexing_error(key)\n",
      "\u001b[1;31mKeyError\u001b[0m: 'Bedrooms'"
     ]
    },
    {
     "data": {
      "image/png": "[encoded data removed]",
      "text/plain": [
       "<Figure size 1600x500 with 2 Axes>"
      ]
     },
     "metadata": {},
     "output_type": "display_data"
    }
   ],
   "source": [
    "plt.figure(figsize=(16,5))\n",
    "plt.subplot(1,2,1)\n",
    "sns.distplot(df2['Price'])\n",
    "\n",
    "plt.subplot(1,2,2)\n",
    "sns.distplot(df2['Bedrooms'])\n",
    "\n",
    "\n",
    "plt.show()\n",
    "\n",
    "import warnings\n",
    "warnings.simplefilter(action='ignore', category=FutureWarning)\n",
    "warnings.simplefilter(action='ignore', category=UserWarning)"
   ]
  },
  {
   "cell_type": "code",
   "execution_count": null,
   "id": "17fef493",
   "metadata": {},
   "outputs": [],
   "source": [
    "plt.figure(figsize=(16,5))\n",
    "plt.subplot(1,2,1)\n",
    "sns.distplot(df2['YearBuilt'])\n",
    "\n",
    "plt.subplot(1,2,2)\n",
    "sns.distplot(df2['Bathrooms'])\n",
    "\n",
    "\n",
    "plt.show()\n",
    "\n",
    "import warnings\n",
    "warnings.simplefilter(action='ignore', category=FutureWarning)\n",
    "warnings.simplefilter(action='ignore', category=UserWarning)"
   ]
  },
  {
   "cell_type": "code",
   "execution_count": null,
   "id": "f4728e6a-280d-436f-a42f-67f9a8baac8e",
   "metadata": {},
   "outputs": [],
   "source": [
    "percentile25 = df2['Bathrooms'].quantile(0.25)\n",
    "percentile75 = df2['Bathrooms'].quantile(0.75)"
   ]
  },
  {
   "cell_type": "code",
   "execution_count": null,
   "id": "39bb2557",
   "metadata": {},
   "outputs": [],
   "source": [
    "p25 = df2['Bedrooms'].quantile(0.25)\n",
    "p75 = df2['Bedrooms'].quantile(0.75)"
   ]
  },
  {
   "cell_type": "code",
   "execution_count": null,
   "id": "4d67e863",
   "metadata": {},
   "outputs": [],
   "source": [
    "percentile25 = df2['Bathrooms'].quantile(0.25)\n",
    "percentile75 = df2['Bathrooms'].quantile(0.75)"
   ]
  },
  {
   "cell_type": "code",
   "execution_count": null,
   "id": "c002659b-d88d-4c79-8d9b-ca65cd578853",
   "metadata": {},
   "outputs": [],
   "source": [
    "iqr = percentile75 - percentile25"
   ]
  },
  {
   "cell_type": "code",
   "execution_count": null,
   "id": "070f667c",
   "metadata": {},
   "outputs": [],
   "source": [
    "iqr1 = p75 - p25"
   ]
  },
  {
   "cell_type": "code",
   "execution_count": null,
   "id": "e4bbb908-36e1-4b6f-a622-5b7af32a8c21",
   "metadata": {},
   "outputs": [],
   "source": [
    "upper_limit = percentile75 + 1.5 * iqr\n",
    "lower_limit = percentile25 - 1.5 * iqr"
   ]
  },
  {
   "cell_type": "code",
   "execution_count": null,
   "id": "aa91bcf9",
   "metadata": {},
   "outputs": [],
   "source": [
    "upper = p75 + 1.5 * iqr1\n",
    "lower = p25 - 1.5 * iqr1"
   ]
  },
  {
   "cell_type": "code",
   "execution_count": null,
   "id": "ce923535-2426-461c-b438-f3e0611ede27",
   "metadata": {},
   "outputs": [],
   "source": [
    "print(\"Upper limit\",upper_limit)\n",
    "print(\"Lower limit\",lower_limit)"
   ]
  },
  {
   "cell_type": "code",
   "execution_count": null,
   "id": "ddc48d50",
   "metadata": {},
   "outputs": [],
   "source": [
    "print(\"Upper limit\",upper)\n",
    "print(\"Lower limit\",lower)"
   ]
  },
  {
   "cell_type": "code",
   "execution_count": null,
   "id": "fe1428fb-48bd-426f-b374-181540fe7066",
   "metadata": {},
   "outputs": [],
   "source": [
    "df[df['Bathrooms'] > upper_limit]"
   ]
  },
  {
   "cell_type": "code",
   "execution_count": null,
   "id": "b767661c",
   "metadata": {},
   "outputs": [],
   "source": [
    "df2[df2['Bedrooms'] > upper_limit]"
   ]
  },
  {
   "cell_type": "code",
   "execution_count": null,
   "id": "a6d3459a-2b4a-4c9a-80dc-e4aaae070c1d",
   "metadata": {},
   "outputs": [],
   "source": [
    "print(df2['Price'].skew())\n",
    "print(df2['Bedrooms'].skew())\n",
    "print(df2['YearBuilt'].skew())\n",
    "print(df2['Bathrooms'].skew())"
   ]
  },
  {
   "cell_type": "markdown",
   "id": "f3e67b1e-4611-4bdf-b1a4-4643a5ea8b98",
   "metadata": {},
   "source": [
    "# Here isn't that much skweness seen a little bit in the features so we will continue work with this"
   ]
  },
  {
   "cell_type": "markdown",
   "id": "bc26d40b-e24d-4650-9cf1-2e0f28ce38a4",
   "metadata": {},
   "source": [
    "# Let's train "
   ]
  },
  {
   "cell_type": "code",
   "execution_count": null,
   "id": "be307da9-c64e-4ae4-b3e4-2a4e4e36913b",
   "metadata": {},
   "outputs": [],
   "source": [
    "x = df2.drop(['Id','Price'], axis=1)  \n",
    "y = df2['Price']"
   ]
  },
  {
   "cell_type": "markdown",
   "id": "3793b0e5-d40d-4743-8d81-cb2ae298da03",
   "metadata": {},
   "source": [
    "We don't need id in our features as it doesn't play any role and price also cause it's the value we want to pridict so it is on the taget value"
   ]
  },
  {
   "cell_type": "code",
   "execution_count": null,
   "id": "4078d553-9bc0-4d6b-bddf-2e1f7d43f30f",
   "metadata": {},
   "outputs": [],
   "source": [
    "x.shape"
   ]
  },
  {
   "cell_type": "markdown",
   "id": "29ab4b7a-076e-48ab-9b95-725beacad5d3",
   "metadata": {},
   "source": [
    "It shows the no of columns and rows we are use in feature to work with "
   ]
  },
  {
   "cell_type": "code",
   "execution_count": null,
   "id": "fbe70529-fc48-4056-b39a-b42f1c1028d5",
   "metadata": {},
   "outputs": [],
   "source": [
    "x.head(4)"
   ]
  },
  {
   "cell_type": "code",
   "execution_count": null,
   "id": "06492a85-c0d6-45c0-8fc4-552ccc7b4a2c",
   "metadata": {},
   "outputs": [],
   "source": [
    "y.shape"
   ]
  },
  {
   "cell_type": "markdown",
   "id": "67a6f2fb-21ac-44a4-9077-02b835b51b7b",
   "metadata": {},
   "source": [
    "# We are using 70 percent to train and 30 percent to test \n",
    "our target value is price"
   ]
  },
  {
   "cell_type": "code",
   "execution_count": null,
   "id": "30d00ae7-7a75-4e85-a8d5-777f00ad459e",
   "metadata": {},
   "outputs": [],
   "source": [
    "from sklearn.model_selection import train_test_split\n",
    "X_train, X_test, y_train, y_test = train_test_split(x, y, test_size=0.3, random_state=25)"
   ]
  },
  {
   "cell_type": "code",
   "execution_count": null,
   "id": "0b84601f-43df-4ce3-aec7-ac27d4e1eddc",
   "metadata": {},
   "outputs": [],
   "source": [
    "print(X_train.shape)\n",
    "print(X_test.shape)"
   ]
  },
  {
   "cell_type": "code",
   "execution_count": null,
   "id": "f08faf3b-3f49-4fbd-89cd-af3568387d87",
   "metadata": {},
   "outputs": [],
   "source": [
    "from sklearn.linear_model import LinearRegression"
   ]
  },
  {
   "cell_type": "code",
   "execution_count": null,
   "id": "eceac1a6-40b4-4d1f-a229-37172dcd8139",
   "metadata": {},
   "outputs": [],
   "source": [
    "reg = LinearRegression()"
   ]
  },
  {
   "cell_type": "code",
   "execution_count": null,
   "id": "3a7034f9-2ee7-49b2-bb19-a7e0c425e835",
   "metadata": {},
   "outputs": [],
   "source": [
    "reg.fit(X_train,y_train)"
   ]
  },
  {
   "cell_type": "code",
   "execution_count": null,
   "id": "99e2434b-f66d-4845-89b2-f250aa918f4a",
   "metadata": {},
   "outputs": [],
   "source": [
    "y_pred = reg.predict(X_test)"
   ]
  },
  {
   "cell_type": "code",
   "execution_count": null,
   "id": "88e81f3e-1236-4324-936f-ed011d472055",
   "metadata": {},
   "outputs": [],
   "source": [
    "from sklearn.metrics import r2_score"
   ]
  },
  {
   "cell_type": "code",
   "execution_count": null,
   "id": "a09604ac-c411-4809-be90-b3a3e951fb40",
   "metadata": {},
   "outputs": [],
   "source": [
    "r2_score(y_test,y_pred)"
   ]
  },
  {
   "cell_type": "code",
   "execution_count": null,
   "id": "26d8a8c4-3f17-4512-8fc4-46e5d6f0a0e3",
   "metadata": {},
   "outputs": [],
   "source": [
    "reg.coef_"
   ]
  },
  {
   "cell_type": "code",
   "execution_count": null,
   "id": "f1bad539-f28a-478d-8385-10ae88d45701",
   "metadata": {},
   "outputs": [],
   "source": [
    "reg.intercept_"
   ]
  },
  {
   "cell_type": "code",
   "execution_count": null,
   "id": "041d631e-53fb-4fb1-a7c4-8b71552bf9cf",
   "metadata": {},
   "outputs": [],
   "source": [
    "import warnings\n",
    "warnings.filterwarnings('ignore')"
   ]
  },
  {
   "cell_type": "code",
   "execution_count": null,
   "id": "701038cc-01ef-4ae7-ac8c-55d6d41dc983",
   "metadata": {},
   "outputs": [],
   "source": [
    "reg.predict(X_test.iloc[0].values.reshape(1,15))"
   ]
  },
  {
   "cell_type": "code",
   "execution_count": null,
   "id": "25a7cc79-52ea-4d75-b836-063e08112711",
   "metadata": {},
   "outputs": [],
   "source": [
    "from sklearn.metrics import mean_absolute_error,mean_squared_error,r2_score"
   ]
  },
  {
   "cell_type": "code",
   "execution_count": null,
   "id": "6b84c364-765f-40f3-8816-59e595777708",
   "metadata": {},
   "outputs": [],
   "source": [
    "y_pred = reg.predict(X_test)"
   ]
  },
  {
   "cell_type": "code",
   "execution_count": null,
   "id": "4639c92e-bc3b-4b05-ace6-c069c741bf0b",
   "metadata": {},
   "outputs": [],
   "source": [
    "y_test.values"
   ]
  },
  {
   "cell_type": "code",
   "execution_count": null,
   "id": "c7eb70fd-6fa9-454e-a868-e1afb5dedf51",
   "metadata": {},
   "outputs": [],
   "source": [
    "mae= mean_absolute_error(y_test,y_pred)\n",
    "print(f'MAE: {mae:.2f}')\n"
   ]
  },
  {
   "cell_type": "code",
   "execution_count": null,
   "id": "5ea331ec-803a-4e38-b3a0-e1504f7cd860",
   "metadata": {},
   "outputs": [],
   "source": [
    "mse= mean_squared_error(y_test,y_pred)\n",
    "print(f'MSE: {mse:.2f}')"
   ]
  },
  {
   "cell_type": "code",
   "execution_count": null,
   "id": "d491fe87-9783-4de2-a23d-7483c9002488",
   "metadata": {},
   "outputs": [],
   "source": [
    "print(\"RMSE\",np.sqrt(mean_squared_error(y_test,y_pred)))"
   ]
  },
  {
   "cell_type": "code",
   "execution_count": null,
   "id": "b06a3aa5-53a7-40a2-91c5-3763cf5744c0",
   "metadata": {},
   "outputs": [],
   "source": [
    "print(\"R2\",r2_score(y_test,y_pred))"
   ]
  },
  {
   "cell_type": "code",
   "execution_count": null,
   "id": "46898ea9-b3a6-4ac5-8d37-e29080e01407",
   "metadata": {},
   "outputs": [],
   "source": [
    "plt.figure(figsize=(10,5))\n",
    "plt.scatter(y_test, y_pred, alpha=0.5)\n",
    "plt.plot([y_test.min(), y_test.max()], [y_test.min(), y_test.max()], 'r--')\n",
    "plt.xlabel('Actual Prices')\n",
    "plt.ylabel('Predicted Prices')\n",
    "plt.title('How Good Are Our Predictions?')\n",
    "plt.show()"
   ]
  },
  {
   "cell_type": "markdown",
   "id": "8968a40d-5662-4fe6-a746-c7a7f735b324",
   "metadata": {},
   "source": [
    "It shows that our model is just 0.2 or 0.3 percent good"
   ]
  },
  {
   "cell_type": "code",
   "execution_count": null,
   "id": "0059f5a0-6184-4a47-b6a8-483917e673b2",
   "metadata": {},
   "outputs": [],
   "source": []
  }
 ],
 "metadata": {
  "kernelspec": {
   "display_name": "Python 3 (ipykernel)",
   "language": "python",
   "name": "python3"
  },
  "language_info": {
   "codemirror_mode": {
    "name": "ipython",
    "version": 3
   },
   "file_extension": ".py",
   "mimetype": "text/x-python",
   "name": "python",
   "nbconvert_exporter": "python",
   "pygments_lexer": "ipython3",
   "version": "3.12.4"
  }
 },
 "nbformat": 4,
 "nbformat_minor": 5
}
